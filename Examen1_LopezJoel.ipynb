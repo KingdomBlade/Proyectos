{
  "nbformat": 4,
  "nbformat_minor": 0,
  "metadata": {
    "kernelspec": {
      "display_name": "tf_2_gpu",
      "language": "python",
      "name": "tf_2_gpu"
    },
    "language_info": {
      "codemirror_mode": {
        "name": "ipython",
        "version": 3
      },
      "file_extension": ".py",
      "mimetype": "text/x-python",
      "name": "python",
      "nbconvert_exporter": "python",
      "pygments_lexer": "ipython3",
      "version": "3.7.4"
    },
    "colab": {
      "name": "Examen1_LopezJoel.ipynb",
      "provenance": []
    }
  },
  "cells": [
    {
      "cell_type": "code",
      "metadata": {
        "id": "CLcIIlDMDQvX",
        "colab_type": "code",
        "colab": {}
      },
      "source": [
        "!start ."
      ],
      "execution_count": 0,
      "outputs": []
    },
    {
      "cell_type": "markdown",
      "metadata": {
        "id": "Yrp6gBlzDQvq",
        "colab_type": "text"
      },
      "source": [
        "# <font color =blue> Examen   </font>\n",
        "\n",
        "Lea cuidadosamente las siguientes indicaciones antes de comenzar el examen:\n",
        "\n",
        "- Para resolver el examen edite este mismo archivo y renómbrelo de la siguiente manera: *Examen1_ApellidoNombre*, donde *ApellidoNombre* corresponde a su apellido paterno con la inicial en mayúscula, seguido de su primer nombre con la inicial en mayúscula **sin acentos**. Por ejemplo, en mi caso el nombre del archivo sería Examen1_LopezMichel.\n",
        "- Resuelva los puntos en el espacio provisto. Si requiere agregar más celdas para código o escritura, hágalo.\n",
        "- Recuerde que también se está evaluando su capacidad de interpretar los resultados. Escriba sus interpretaciones/conclusiones en celdas utilizando *Markdown*.\n",
        "- No se resuelven dudas de ningún tipo por los profesores de la asignatura. Por favor, absténgase de preguntar.\n",
        "\n",
        "<font color = blue> - El formato de presentación de todo el examen en general debe ser adecuado. Use tamaños de letra, colores, etiquetas, etcétera. <font>\n"
      ]
    },
    {
      "cell_type": "code",
      "metadata": {
        "id": "N4gl_cjBDQvs",
        "colab_type": "code",
        "colab": {}
      },
      "source": [
        "%matplotlib inline \n",
        "\n",
        "import sympy as sym\n",
        "import numpy as np\n",
        "import matplotlib.pylab as plt\n",
        "\n",
        "from sympy import init_printing; init_printing(use_latex='mathjax')\n",
        "from IPython.display import display\n",
        "from IPython.display import HTML\n",
        "from scipy.integrate import odeint\n",
        "\n",
        "from sympy import *\n",
        "from scipy.optimize import linprog\n",
        "\n",
        "\n",
        "from ipywidgets import *\n",
        "\n",
        "Ley_Newton_enfriamiento='<iframe src=https://es.wikipedia.org/wiki/Ley_del_enfriamiento_de_Newton?useformat=mobile width=700 height=350></iframe>'\n",
        "Torricelli='<iframe src=https://en.wikipedia.org/wiki/Torricelli%27s_law?useformat=mobile width=700 height=350></iframe>'\n",
        "Caidalibre ='<iframe src=https://es.wikipedia.org/wiki/Ca%C3%ADda_libre?useformat=mobile width=700 height=350></iframe>'\n",
        "\n",
        "sym.var('k t x')\n",
        "\n",
        "T = sym.Function('T')"
      ],
      "execution_count": 0,
      "outputs": []
    },
    {
      "cell_type": "markdown",
      "metadata": {
        "id": "E7-sqNylDQvz",
        "colab_type": "text"
      },
      "source": [
        "# <font color =blue>Primer punto.</font>\n",
        "\n",
        "## Introducción al problema. \n",
        "\n",
        "### Ley de Newton del enfriamiento\n",
        "\n",
        "La ley empírica de Newton, relativa al enfriamiento de un objeto, se expresa con la ecuación diferencial lineal de primer orden\n",
        "\n",
        "$$\\frac{dT}{dt} = k(T - Tm) $$\n",
        "\n",
        "donde $k$ es una constante de proporcionalidad, $T(t)$ es la temperatura del objeto cuando $t > 0$\n",
        "y $T_m$ es la temperatura ambiente; o sea, la temperatura del medio que rodea al objeto. \n",
        "\n",
        "Supondremos que $T_m$ es constante."
      ]
    },
    {
      "cell_type": "markdown",
      "metadata": {
        "id": "lWF5mUgJDQv0",
        "colab_type": "text"
      },
      "source": [
        "### Para más información revise la siguiente pagina. "
      ]
    },
    {
      "cell_type": "code",
      "metadata": {
        "id": "sbaX3vz7DQv1",
        "colab_type": "code",
        "outputId": "468b4bda-661b-4f5f-ce04-b7834ef8f40e",
        "colab": {
          "referenced_widgets": [
            "c37c1ab6a1154e9894a1c72870890839"
          ]
        }
      },
      "source": [
        "HTML(Ley_Newton_enfriamiento)"
      ],
      "execution_count": 0,
      "outputs": [
        {
          "output_type": "display_data",
          "data": {
            "application/vnd.jupyter.widget-view+json": {
              "model_id": "c37c1ab6a1154e9894a1c72870890839",
              "version_major": 2,
              "version_minor": 0
            },
            "text/plain": [
              "HTML(value='<iframe src=https://es.wikipedia.org/wiki/Ley_del_enfriamiento_de_Newton?useformat=mobile width=70…"
            ]
          },
          "metadata": {
            "tags": []
          }
        }
      ]
    },
    {
      "cell_type": "markdown",
      "metadata": {
        "id": "xoCkwpxBDQv_",
        "colab_type": "text"
      },
      "source": [
        "## <font color = red> Problema 1 <font>\n",
        "\n",
        "### ¿Cuánto esperar para tomar el café?\n",
        "\n",
        "Primero calentamos el agua a $80°C$. Posteriormente agregamos café al vaso con el agua caliente. Después realizamos la medición de la temperatura ambiente, la cual fue de $24°C$. Realiza las siguientes actividades:\n",
        "]\n",
        "1. (20 puntos) Simula el sistema en un tiempo de $0$ a $120$ unidades de tiempo  con una constante de proporcionalidad $k=-0.0565$,  \n",
        "2. (15 puntos) \n",
        "    - (10 puntos) Grafique la solución.\n",
        "    - (5 puntos) Supoga que cada unidad de tiempo corresponde a un minuto. ¿En que tiempo aproximadamente la temperatura es menor a $30°C$?\n",
        "3. (15 puntos)\n",
        "    - (10 puntos) ¿Qué interpretación puedes decir para valores de $k >0$?\n",
        "    - (5  puntos) Busca una constante de proporcionalidad $k$ en un rango ( de $-0.2$ a $0.2$ con incremento de 0.01), para la cual el cafe tiene una temperatura menor de $30°C$ en un tiempo a 20 minutos."
      ]
    },
    {
      "cell_type": "code",
      "metadata": {
        "id": "v4tvotgQDQwB",
        "colab_type": "code",
        "outputId": "9ae5471f-55cb-4d90-cc35-4b581cf584b3",
        "colab": {}
      },
      "source": [
        " "
      ],
      "execution_count": 0,
      "outputs": [
        {
          "output_type": "display_data",
          "data": {
            "image/png": "[encoded data removed]",
            "text/plain": [
              "<Figure size 432x288 with 1 Axes>"
            ]
          },
          "metadata": {
            "tags": [],
            "needs_background": "light"
          }
        }
      ]
    },
    {
      "cell_type": "code",
      "metadata": {
        "id": "kJUYcp91DQwN",
        "colab_type": "code",
        "colab": {}
      },
      "source": [
        ""
      ],
      "execution_count": 0,
      "outputs": []
    },
    {
      "cell_type": "markdown",
      "metadata": {
        "id": "HJMPSiN4DQwX",
        "colab_type": "text"
      },
      "source": [
        "## <font color = red> Problema 2 <font>  \n",
        "\n",
        "### ¿Cuánto esperar para comenzar a comer pastel?\n",
        "\n",
        "Al sacar un pastel del horno, su temperatura es $280°C$. Después de $3$ minutos, $2OO°C$. ¿En cuanto tiempo se enfriará hasta la temperatura ambiente de $28°C$? Realiza las siguientes actividades:\n",
        "\n",
        "1. (20 puntos) Simula el sistema en un tiempo de $0$ a $60$ unidades de tiempo  con una constante de proporcionalidad $k=-0.14518$,  \n",
        "2. (15 puntos) \n",
        "    - (10 puntos) Grafique la solución.\n",
        "    - (5 puntos) Supoga que cada unidad de tiempo corresponde a un minuto. ¿En que tiempo aproximadamente la temperatura es menor a $150°C$?\n",
        "3. (15 puntos)\n",
        "    - (10 puntos) ¿Qué interpretación puedes decir para valores de $k >0$?\n",
        "    - (5  puntos) Busca una constante de proporcionalidad $k$ en un rango ( de $-0.2$ a $0.2$ con incremento de 0.01), para la cual el pastel se puede comer a una temperatura menor a $50°C$ en un tiempo a 10 minutos."
      ]
    },
    {
      "cell_type": "code",
      "metadata": {
        "id": "BX1nYxywDQwZ",
        "colab_type": "code",
        "outputId": "e9c33870-a928-4268-865f-35a79669d70e",
        "colab": {}
      },
      "source": [
        ""
      ],
      "execution_count": 0,
      "outputs": [
        {
          "output_type": "display_data",
          "data": {
            "image/png": "[encoded data removed]",
            "text/plain": [
              "<Figure size 432x288 with 1 Axes>"
            ]
          },
          "metadata": {
            "tags": [],
            "needs_background": "light"
          }
        }
      ]
    },
    {
      "cell_type": "code",
      "metadata": {
        "id": "krJmQ61wDQwn",
        "colab_type": "code",
        "colab": {}
      },
      "source": [
        "# Solucion opcion 3  :  "
      ],
      "execution_count": 0,
      "outputs": []
    },
    {
      "cell_type": "code",
      "metadata": {
        "id": "fb1e1IK_DQwu",
        "colab_type": "code",
        "colab": {}
      },
      "source": [
        ""
      ],
      "execution_count": 0,
      "outputs": []
    },
    {
      "cell_type": "code",
      "metadata": {
        "id": "XJDXEwypDQw1",
        "colab_type": "code",
        "colab": {}
      },
      "source": [
        ""
      ],
      "execution_count": 0,
      "outputs": []
    },
    {
      "cell_type": "markdown",
      "metadata": {
        "id": "vMqLGlruDQw7",
        "colab_type": "text"
      },
      "source": [
        "# <font color =blue>Segundo punto.</font>\n",
        "\n",
        "## Introducción al problema. \n",
        "\n",
        "### Caída libre\n",
        "\n",
        "En la caída libre ideal, se desprecia la resistencia aerodinámica que presenta el aire al movimiento del cuerpo, analizando lo que pasaría en el vacío. En esas condiciones, la aceleración que adquiriría el cuerpo sería debida exclusivamente a la gravedad, siendo independiente de su masa.\n",
        "\n",
        "$$\n",
        "\\begin{eqnarray}\n",
        "\\frac{ds}{dt} &=& v \\\\\n",
        "\\frac{dv}{dt} &=& -g\n",
        "\\end{eqnarray}\n",
        "$$\n",
        "\n",
        "O visto el sistema en forma canónica\n",
        "\n",
        "$$\n",
        "\\begin{eqnarray}\n",
        "\\dot{x}_1 &=& x_2 \\\\\n",
        "\\dot{x}_2 &=& -g\n",
        "\\end{eqnarray}\n",
        "$$\n"
      ]
    },
    {
      "cell_type": "markdown",
      "metadata": {
        "id": "2R0Pu3YHDQw9",
        "colab_type": "text"
      },
      "source": [
        "### Para más información revise la siguiente pagina. "
      ]
    },
    {
      "cell_type": "code",
      "metadata": {
        "scrolled": true,
        "id": "ozxa_yNmDQxA",
        "colab_type": "code",
        "outputId": "789da337-879d-495b-9153-786eaa9d4678",
        "colab": {
          "referenced_widgets": [
            "7efbcb7ca1ff43b18713f76ef0b19242"
          ]
        }
      },
      "source": [
        "HTML(Caidalibre)"
      ],
      "execution_count": 0,
      "outputs": [
        {
          "output_type": "display_data",
          "data": {
            "application/vnd.jupyter.widget-view+json": {
              "model_id": "7efbcb7ca1ff43b18713f76ef0b19242",
              "version_major": 2,
              "version_minor": 0
            },
            "text/plain": [
              "HTML(value='<iframe src=https://es.wikipedia.org/wiki/Ca%C3%ADda_libre?useformat=mobile width=700 height=350><…"
            ]
          },
          "metadata": {
            "tags": []
          }
        }
      ]
    },
    {
      "cell_type": "markdown",
      "metadata": {
        "id": "VrPL5mDcDQxH",
        "colab_type": "text"
      },
      "source": [
        "## <font color = red> Problema 3 <font>\n",
        "\n",
        "### Deja caer una pelota\n",
        "\n",
        "Desde un edificio de altura de $314$ metros se deja caer una pelota, que tarda 8 segundos en llegar al piso. ¿con que velocidad impacta la pelota contra el piso?\n",
        "\n",
        "\n",
        "1. (20 puntos) Simula el sistema en un tiempo de $0$ a $8$ unidades de tiempo  con una constante de gravedad $g=-9.8$,  \n",
        "2. (15 puntos) \n",
        "    - (10 puntos) Grafique la solución.\n",
        "    - (5 puntos) Supoga que cada unidad de tiempo corresponde a un segundo. ¿En que tiempo aproximadamente la pelota esta a la mitad del edificio?\n",
        "3. (15 puntos)\n",
        "    - (10 puntos) ¿Qué interpretación puedes decir para una posicion inicial de $314 m$ y una velocidad de $30 m/s$ ?\n",
        "    - (5  puntos) ¿Que altura aproximadamente tendra en $10s$ para el incisio anterior?\n",
        "\n",
        "\n",
        "\n"
      ]
    },
    {
      "cell_type": "code",
      "metadata": {
        "id": "oWWJuYV9DQxI",
        "colab_type": "code",
        "outputId": "771ccb99-735c-46ab-c866-8116aad1f3a6",
        "colab": {}
      },
      "source": [
        ""
      ],
      "execution_count": 0,
      "outputs": [
        {
          "output_type": "execute_result",
          "data": {
            "text/plain": [
              "Text(0, 0.5, 'Velocidad (v)')"
            ]
          },
          "metadata": {
            "tags": []
          },
          "execution_count": 11
        },
        {
          "output_type": "display_data",
          "data": {
            "image/png": "[encoded data removed]",
            "text/plain": [
              "<Figure size 432x288 with 2 Axes>"
            ]
          },
          "metadata": {
            "tags": [],
            "needs_background": "light"
          }
        }
      ]
    },
    {
      "cell_type": "code",
      "metadata": {
        "id": "e5Wkj_IODQxU",
        "colab_type": "code",
        "colab": {}
      },
      "source": [
        ""
      ],
      "execution_count": 0,
      "outputs": []
    },
    {
      "cell_type": "code",
      "metadata": {
        "id": "qyNqQ5iaDQxZ",
        "colab_type": "code",
        "colab": {}
      },
      "source": [
        "# Solucion opcion 3"
      ],
      "execution_count": 0,
      "outputs": []
    },
    {
      "cell_type": "markdown",
      "metadata": {
        "id": "hePuLNfJDQxj",
        "colab_type": "text"
      },
      "source": [
        "# <font color =blue>Tercer punto.</font>\n",
        "\n",
        "## Introducción al problema. \n",
        "\n",
        "## Drenado de un tanque (Ley de Torricelli)\n",
        "\n",
        "En hidrodinámica, la ley de Torricelli establece que la velocidad\n",
        "$v$ de flujo de salida de agua a través de un orificio plano ubicado en la parte inferior\n",
        "de un tanque lleno hasta una altura $h$ será igual a la velocidad que un cuerpo (en este caso\n",
        "una gota de agua) adquiriría en caída libre desde una altura $h$; es decir, $v = \\sqrt{2gh}$, donde $g$ es la aceleración debida a la gravedad.\n",
        "\n",
        "\n",
        "Suponga que un tanque lleno de agua puede drenar mediante un orificio bajo la influencia de la gravedad. Deseamos encontrar la altura $h$ del agua restante en el tanque en el tiempo $t$.\n",
        "\n",
        "Si el área del orificio es $A_h$ (en $m^2$) y la velocidad del agua que sale del tanque es $v = \\sqrt{2gh}$ (en m/s), entonces el volumen del agua que abandona el tanque por segundo es $A_h \\sqrt{2gh}$ (en $m^3$/s). De este modo, si $V(t)$ indica el volumen del agua que hay en el tanque en el tiempo $t$, la ecuación diferencial deseada para la altura del agua en el tiempo t:\n",
        "\n",
        "$$\\frac{dh}{dt} = - \\frac{A_h}{A_w} \\sqrt{2gh} $$\n",
        "\n",
        "\n",
        "Donde $A_w$ (en $m^2$) representa el área constante de la superficie superior del agua.\n",
        "\n",
        "Observe que aquí ignoramos la posibilidad de fricción en el orificio, la cual puede ocasionar una reducción en la velocidad del flujo en\n",
        "dicho lugar\n",
        "\n"
      ]
    },
    {
      "cell_type": "markdown",
      "metadata": {
        "id": "CYNFrag3DQxl",
        "colab_type": "text"
      },
      "source": [
        "### Para más información revise la siguiente pagina. "
      ]
    },
    {
      "cell_type": "code",
      "metadata": {
        "id": "sP7BngmwDQxm",
        "colab_type": "code",
        "outputId": "fe9772cb-7e1e-4237-d0b3-0f990d4376b8",
        "colab": {
          "referenced_widgets": [
            "df1deaca58234a72b973917739bdd71e"
          ]
        }
      },
      "source": [
        "HTML(Torricelli)"
      ],
      "execution_count": 0,
      "outputs": [
        {
          "output_type": "display_data",
          "data": {
            "application/vnd.jupyter.widget-view+json": {
              "model_id": "df1deaca58234a72b973917739bdd71e",
              "version_major": 2,
              "version_minor": 0
            },
            "text/plain": [
              "HTML(value='<iframe src=https://en.wikipedia.org/wiki/Torricelli%27s_law?useformat=mobile width=700 height=350…"
            ]
          },
          "metadata": {
            "tags": []
          }
        }
      ]
    },
    {
      "cell_type": "code",
      "metadata": {
        "id": "kfHSjgKLDQxs",
        "colab_type": "code",
        "colab": {}
      },
      "source": [
        ""
      ],
      "execution_count": 0,
      "outputs": []
    },
    {
      "cell_type": "markdown",
      "metadata": {
        "id": "NQt6ACJgDQx1",
        "colab_type": "text"
      },
      "source": [
        "## <font color = red> Problema 4 <font>\n",
        "\n",
        "### Drenado de un tanque \n",
        "\n",
        "Concidere un cilindro circular con un área constante de $A_w = 5 m^2$, en la parte inferior contiene un orificio de área $A_h = 1 m^2$ el cual podemos estar regulando la salida del liquido. En el interior del tanque se encuentra un liquido el cual tiene una altura inicial en el tiempo $0$ de $h(0)= 10 m$. Realiza las siguientes actividades:\n",
        "\n",
        "1. (20 puntos) Simula el sistema en un tiempo de $0$ a $6.5$ unidades de tiempo,  \n",
        "2. (15 puntos) \n",
        "    - (10 puntos) Grafique la solución.\n",
        "    - (5 puntos) Supoga que cada unidad de tiempo corresponde a un minuto. ¿En que tiempo aproximadamente la altura del liquido alcanza una altura de $h=2 m$?\n",
        "3. (15 puntos)\n",
        "    - (10 puntos) ¿Qué interpretación puedes decir si el signo de la ecuación fuera positivo?\n",
        "    - (5  puntos)  ¿Si el área del orificio $A_h$ es menor a $1 m^2$ que implicaria? Realiza una simulacion y grafica la solución para un orificio de $A_h = .5 m$ "
      ]
    },
    {
      "cell_type": "code",
      "metadata": {
        "id": "tVtyQ5zVDQx4",
        "colab_type": "code",
        "outputId": "1b198ffd-1c67-4cc2-f921-864d99d43838",
        "colab": {}
      },
      "source": [
        ""
      ],
      "execution_count": 0,
      "outputs": [
        {
          "output_type": "display_data",
          "data": {
            "image/png": "[encoded data removed]",
            "text/plain": [
              "<Figure size 432x288 with 1 Axes>"
            ]
          },
          "metadata": {
            "tags": [],
            "needs_background": "light"
          }
        }
      ]
    },
    {
      "cell_type": "code",
      "metadata": {
        "scrolled": true,
        "id": "xB9QRtMODQx9",
        "colab_type": "code",
        "outputId": "880e6626-7b68-4eee-e884-9d6ef6057f2e",
        "colab": {}
      },
      "source": [
        ""
      ],
      "execution_count": 0,
      "outputs": [
        {
          "output_type": "display_data",
          "data": {
            "image/png": "[encoded data removed]",
            "text/plain": [
              "<Figure size 432x288 with 1 Axes>"
            ]
          },
          "metadata": {
            "tags": [],
            "needs_background": "light"
          }
        }
      ]
    },
    {
      "cell_type": "code",
      "metadata": {
        "id": "488v4urGDQyG",
        "colab_type": "code",
        "colab": {}
      },
      "source": [
        ""
      ],
      "execution_count": 0,
      "outputs": []
    },
    {
      "cell_type": "markdown",
      "metadata": {
        "id": "hudp7vzjDQyM",
        "colab_type": "text"
      },
      "source": [
        "## <font color = red> Problema 5 <font>\n",
        "\n",
        "### Modelo poblacional \n",
        "\n",
        "Simula la siguiente ecuación, y supoga que cada unidad de tiempo corresponde a un minuto.\n",
        "\n",
        "$$\\frac{ds}{dt} = 0.05s(\\frac{s}{20}-1)(1-\\frac{s}{100}) $$\n",
        "\n",
        "\n",
        "1. (20 puntos) Simula el sistema en un tiempo de $0$ a $200$ unidades de tiempo, con la condición inicial $s(0) = 21$  \n",
        "2. (15 puntos) \n",
        "    - (10 puntos) Grafique la solución.\n",
        "    - (5 puntos) ¿En que tiempo aproximadamente la poblacion alcanza su maxima capacidad?\n",
        "3. (15 puntos)\n",
        "    - (5 puntos) ¿Cual es la capacidad de soporte de este modelo poblacional?\n",
        "    - (10  puntos) ¿Que pasa con una condición inicial menor (s(0)=21) ? ¿Y con una condición mayor a la capacidad de soporte? "
      ]
    },
    {
      "cell_type": "code",
      "metadata": {
        "id": "q8AyCm4oDQyN",
        "colab_type": "code",
        "outputId": "3612ecff-5376-4ff1-bcb2-5b075753e37f",
        "colab": {}
      },
      "source": [
        ""
      ],
      "execution_count": 0,
      "outputs": [
        {
          "output_type": "execute_result",
          "data": {
            "text/plain": [
              "[<matplotlib.lines.Line2D at 0x1d9016fd188>]"
            ]
          },
          "metadata": {
            "tags": []
          },
          "execution_count": 15
        },
        {
          "output_type": "display_data",
          "data": {
            "image/png": "[encoded data removed]",
            "text/plain": [
              "<Figure size 432x288 with 1 Axes>"
            ]
          },
          "metadata": {
            "tags": [],
            "needs_background": "light"
          }
        }
      ]
    },
    {
      "cell_type": "code",
      "metadata": {
        "id": "jYdxiz1eDQyV",
        "colab_type": "code",
        "colab": {}
      },
      "source": [
        ""
      ],
      "execution_count": 0,
      "outputs": []
    },
    {
      "cell_type": "code",
      "metadata": {
        "id": "O4ty65vNDQya",
        "colab_type": "code",
        "colab": {}
      },
      "source": [
        ""
      ],
      "execution_count": 0,
      "outputs": []
    },
    {
      "cell_type": "markdown",
      "metadata": {
        "id": "AhHfZ0sGDQyh",
        "colab_type": "text"
      },
      "source": [
        "## <font color = red> Problema 6 (estabilizar el sistema)<font>\n",
        "\n",
        "Diseña una función $u$ diferente de 0, para que el siguiente sistema no crezca, y se aproxime a 0 cuando t -> $\\infty$.\n",
        "\n",
        "\n",
        "$$\\frac{ds}{dt} = 0.06u $$\n",
        "\n",
        "\n",
        "1. (20 puntos) Simula el sistema en un tiempo de $0$ a $800$ unidades de tiempo, con la condición inicial $s(0) = 10$  \n",
        "2. (15 puntos) \n",
        "    - (15 puntos) Grafique la solución.\n",
        "3. (15 puntos)\n",
        "    - (15 puntos) Escriba la ecuación de $u$ utilizada"
      ]
    },
    {
      "cell_type": "code",
      "metadata": {
        "id": "3MSMknwFDQyj",
        "colab_type": "code",
        "outputId": "5cab7a3b-3f88-467a-833c-d585012d242c",
        "colab": {}
      },
      "source": [
        ""
      ],
      "execution_count": 0,
      "outputs": [
        {
          "output_type": "execute_result",
          "data": {
            "text/plain": [
              "[<matplotlib.lines.Line2D at 0x1d936c30488>]"
            ]
          },
          "metadata": {
            "tags": []
          },
          "execution_count": 17
        },
        {
          "output_type": "display_data",
          "data": {
            "image/png": "[encoded data removed]",
            "text/plain": [
              "<Figure size 432x288 with 1 Axes>"
            ]
          },
          "metadata": {
            "tags": [],
            "needs_background": "light"
          }
        }
      ]
    },
    {
      "cell_type": "code",
      "metadata": {
        "id": "HFflAwr_DQyr",
        "colab_type": "code",
        "colab": {}
      },
      "source": [
        ""
      ],
      "execution_count": 0,
      "outputs": []
    },
    {
      "cell_type": "markdown",
      "metadata": {
        "id": "_4CHc4EaDQy3",
        "colab_type": "text"
      },
      "source": [
        "## <font color = red> Problema 7 <font>\n",
        "\n",
        "Diseña una función $u$ diferente de 0, para que el siguiente sistema no crezca, y se aproxime a 0 cuando t -> $\\infty$.\n",
        "\n",
        "\n",
        "$$\\frac{dx}{dt} = 2x^2 + 0.06u $$\n",
        "\n",
        "\n",
        "1. (20 puntos) Simula el sistema con la condición inicial $x(0) = 10$  \n",
        "2. (15 puntos) \n",
        "    - (15 puntos) Grafique la solución.\n",
        "3. (15 puntos)\n",
        "    - (15 puntos) Escriba la ecuación de $u$ utilizada"
      ]
    },
    {
      "cell_type": "code",
      "metadata": {
        "id": "-A41gysUDQy4",
        "colab_type": "code",
        "outputId": "d6d1cf8c-d93c-42a3-b0d9-f3f67cc8b9d7",
        "colab": {}
      },
      "source": [
        ""
      ],
      "execution_count": 0,
      "outputs": [
        {
          "output_type": "execute_result",
          "data": {
            "text/plain": [
              "[<matplotlib.lines.Line2D at 0x1d936eff348>]"
            ]
          },
          "metadata": {
            "tags": []
          },
          "execution_count": 30
        },
        {
          "output_type": "display_data",
          "data": {
            "image/png": "[encoded data removed]",
            "text/plain": [
              "<Figure size 432x288 with 1 Axes>"
            ]
          },
          "metadata": {
            "tags": [],
            "needs_background": "light"
          }
        }
      ]
    },
    {
      "cell_type": "code",
      "metadata": {
        "id": "3ZKRT20-DQzA",
        "colab_type": "code",
        "colab": {}
      },
      "source": [
        ""
      ],
      "execution_count": 0,
      "outputs": []
    },
    {
      "cell_type": "markdown",
      "metadata": {
        "id": "kyKVJnyODQzI",
        "colab_type": "text"
      },
      "source": [
        "## <font color = red> Problema 8 (seguimiento de trayectorias) <font>\n",
        "\n",
        "Diseña una función $u$ diferente de 0, para que el siguiente sistema siga una trayectoria. \n",
        "\n",
        "\n",
        "$$\\frac{dx}{dt} = 2x^2 + 0.06u $$\n",
        "\n",
        "\n",
        "1. (20 puntos) Simula el sistema con la condición inicial $x(0) = 10$  \n",
        "2. (15 puntos) \n",
        "    - (15 puntos) Grafique la solución siguiendo la funcion de referencia $ x_{ref} = sin(t) $\n",
        "3. (15 puntos)\n",
        "    - (15 puntos) Escriba la ecuación de $u$ utilizada"
      ]
    },
    {
      "cell_type": "code",
      "metadata": {
        "id": "1QCnVflCDQzJ",
        "colab_type": "code",
        "colab": {}
      },
      "source": [
        ""
      ],
      "execution_count": 0,
      "outputs": []
    },
    {
      "cell_type": "code",
      "metadata": {
        "id": "Cm_apY0FDQzO",
        "colab_type": "code",
        "colab": {}
      },
      "source": [
        ""
      ],
      "execution_count": 0,
      "outputs": []
    },
    {
      "cell_type": "markdown",
      "metadata": {
        "id": "gfsdiPKuDQzY",
        "colab_type": "text"
      },
      "source": [
        "## <font color = red> Problema 9  <font>\n",
        "\n",
        "\n",
        "Una empresa de transportes gestiona una flota de 60 carros de tres modelos diferentes. \n",
        "\n",
        "- Los tipo X generan una media diaria de $ \\$15,000$  pesos. y recorren diariamente una media de $400$ kilómetros. \n",
        "\n",
        "- Los tipo Black generan diariamente una media de $\\$10,000$ pesos y recorren $300$ kilómetros. \n",
        "\n",
        "- Los tipo SUV generan diariamente $\\$5,000$ pesos y recorren $100$ km. de media.\n",
        "\n",
        "Diariamente los carros de la empresa transportan un total de $ \\$475$ mil pesos y recorren $12500$ km. entre todos. \n",
        "\n",
        "¿Cuántos carros gestiona la empresa de cada modelo?"
      ]
    },
    {
      "cell_type": "code",
      "metadata": {
        "id": "pfTJcXz-DQzZ",
        "colab_type": "code",
        "outputId": "5253373f-23d7-4e9c-9ff9-5534ed255594",
        "colab": {}
      },
      "source": [
        ""
      ],
      "execution_count": 0,
      "outputs": [
        {
          "output_type": "execute_result",
          "data": {
            "text/plain": [
              "array([ 5., 25., 30.])"
            ]
          },
          "metadata": {
            "tags": []
          },
          "execution_count": 41
        }
      ]
    },
    {
      "cell_type": "code",
      "metadata": {
        "id": "AKKep1JwDQzf",
        "colab_type": "code",
        "colab": {}
      },
      "source": [
        ""
      ],
      "execution_count": 0,
      "outputs": []
    },
    {
      "cell_type": "markdown",
      "metadata": {
        "id": "HQDr8eEVDQzn",
        "colab_type": "text"
      },
      "source": [
        "## <font color = red> Problema 10  <font>\n",
        "\n",
        "Ace Novelty recibió un pedido del Magic World Amusement Park de **900 pandas gigantes, 1200 perros San Bernardo y 2000 pájaros grandes.** La dirección Ace decidió que **500 pandas, 800 perros y 1300 pájaros** pueden ser fabricados **en su planta de Los Ángeles**, y el **resto** del pedido podría realizarse **en la planta de Seattle.**\n",
        "\n",
        "Cada **panda** requiere **1.5** metros cuadradas de felpa, **30** metros cúbicos de relleno y **5** piezas de adorno; cada **perro** requiere **2** metros cuadradas de felpa, **35** metros cúbicos de relleno y **8** piezas de adorno, y cada **pájaro** requiere **2.5** metros cuadrados de felpa, **25** metros cúbicos de relleno y **15** piezas de adorno. La felpa cuesta **\\$4.50** por metro cuadrado, el relleno cuesta **\\$0.20** por metros cúbico y las piezas de adorno cuestan **\\$0.25** por unidad.\n",
        "\n",
        "a. Calcule la cantidad de cada tipo de material que se debe comprar para cada planta.\n",
        "\n",
        "b. ¿Cuál es el costo total de materiales empleados en cada planta y el costo total de los materiales usados por Ace Novelty para cubrir el pedido?"
      ]
    },
    {
      "cell_type": "markdown",
      "metadata": {
        "id": "EoL-Qm4YDQzo",
        "colab_type": "text"
      },
      "source": [
        "| |Felpa|Relleno|Adorno|\n",
        "|---|---|---|---|\n",
        "|Pandas|1.50|  30.00|  5.00|\n",
        "|Perros|2.00|  35.00|  8.00|\n",
        "|Pájaros|2.50|  25.00|  15.00|\n",
        "\n",
        "\n",
        "| |Pandas|Perros|Pájaros|\n",
        "|---|---|---|---|\n",
        "|L.A|500|800|1300|\n",
        "|Seattle|400|400|700|\n",
        "\n",
        "| | |\n",
        "|---|---|\n",
        "|Felpa|4.50|\n",
        "|Relleno|0.20|\n",
        "|Adorno|0.25|"
      ]
    },
    {
      "cell_type": "markdown",
      "metadata": {
        "id": "wqXmWt-7DQzp",
        "colab_type": "text"
      },
      "source": [
        "A=$\\left[\n",
        " \\begin{array}{ccc}\n",
        " 1.50 & 30.00 & 5.00  \\\\\n",
        " 2.00 & 35.00 & 8.00  \\\\\n",
        " 2.50 & 25.00 & 15.00 \\\\\n",
        "\\end{array} \n",
        "\\right]$,\n",
        "P=\n",
        "$\\left[\n",
        " \\begin{array}{ccc}\n",
        " 500.00 & 800.00 & 1300.00 \\\\\n",
        " 400.00 & 400.00 & 700.00  \\\\\n",
        "\\end{array} \n",
        "\\right]$,\n",
        "C=\n",
        "$\\left[\n",
        " \\begin{array}{c}\n",
        " 4.5  \\\\\n",
        " 0.2  \\\\\n",
        " 0.25\n",
        "\\end{array} \n",
        "\\right]$"
      ]
    },
    {
      "cell_type": "code",
      "metadata": {
        "id": "LRrztQ1DDQzr",
        "colab_type": "code",
        "colab": {}
      },
      "source": [
        ""
      ],
      "execution_count": 0,
      "outputs": []
    },
    {
      "cell_type": "code",
      "metadata": {
        "id": "68mRm421DQzx",
        "colab_type": "code",
        "colab": {}
      },
      "source": [
        "# a:La cantidad de cada tipo de material para cada planta,\n"
      ],
      "execution_count": 0,
      "outputs": []
    },
    {
      "cell_type": "code",
      "metadata": {
        "id": "qU_so6b6DQz5",
        "colab_type": "code",
        "colab": {}
      },
      "source": [
        "#b:El costo total de los materiales para cada planta está dada por\n"
      ],
      "execution_count": 0,
      "outputs": []
    },
    {
      "cell_type": "code",
      "metadata": {
        "id": "JiCdz2DqDQ0A",
        "colab_type": "code",
        "colab": {}
      },
      "source": [
        "#Costo total\n"
      ],
      "execution_count": 0,
      "outputs": []
    },
    {
      "cell_type": "code",
      "metadata": {
        "id": "uwmiWASBDQ0L",
        "colab_type": "code",
        "colab": {}
      },
      "source": [
        ""
      ],
      "execution_count": 0,
      "outputs": []
    },
    {
      "cell_type": "markdown",
      "metadata": {
        "id": "1qV1q9LWDQ0R",
        "colab_type": "text"
      },
      "source": [
        "## <font color = red> Problema 10  <font>\n",
        "\n",
        "Aproxima la función exponencial con n=20\n",
        "\n",
        "$$e^x =\\sum_{n=0}^{20} \\frac{x^n}{n!}$$"
      ]
    },
    {
      "cell_type": "code",
      "metadata": {
        "id": "q_i6H0iQDQ0S",
        "colab_type": "code",
        "colab": {}
      },
      "source": [
        ""
      ],
      "execution_count": 0,
      "outputs": []
    },
    {
      "cell_type": "code",
      "metadata": {
        "id": "SgXvN6z0DQ0d",
        "colab_type": "code",
        "colab": {}
      },
      "source": [
        ""
      ],
      "execution_count": 0,
      "outputs": []
    },
    {
      "cell_type": "markdown",
      "metadata": {
        "id": "jPtkXg6rDQ0k",
        "colab_type": "text"
      },
      "source": [
        "## <font color = red> Problema 11  <font>\n",
        "    \n",
        "### Construir una cisterna rectangular\n",
        "\n",
        "Se va a construir una cisterna rectangular con base y tapa cuadradas para almacenar **$12000pies^3$** de agua. Si el concreto para construir la base y los lados tiene un costo de **$100$ por $pie^2$** y el material para construir la **tapa** cuesta **$200$ por $pie^2$** \n",
        "\n",
        "¿cuáles son las dimensiones de la cisterna que minimizan el costo de su construcción?\n",
        "\n",
        "¿Qué se quiere en el problema?\n",
        "\n",
        "Determinar las dimensiones de la cisterna que minimizan el costo de su construcción.\n",
        "Suponiendo que las dimensiones de la cisterna son: \n",
        "$x$ pies el lado de la base cuadrada y $h$ pies su altura.\n",
        "\n",
        "¿Cuál es el costo de su construcción?\n",
        "\n",
        "![](cisterna.png)\n",
        "\n",
        "Para encontrar las dimensiones ($x$ & $h$) que minimizan el costo de su construcción se necesita la expresión del costo de la cisterna. Usamos la tabla siguiente:\n",
        "\n",
        "![](tablacisterna.png)\n",
        "\n",
        "El costo total de la contrucción de la cisterna es:\n",
        "\n",
        "$$ C = 300x^2 + 400xh \\text{   pesos}$$\n",
        "\n",
        "En el problema aparece la siguiente restricción: **el volumen de la cisterna debe ser igual a $12 000 pies^3$, es decir, que $x^2h = 12000$.**\n",
        "\n",
        "Tenemos pues:\n",
        "\n",
        "Una función $C = 300x^2 + 400xh$ y una ecuación $x^2h = 12 000$.\n",
        "De la ecuación despejamos una de las variables (la que más convenga) para sustituirla en la función. Conviene despejar $h$."
      ]
    },
    {
      "cell_type": "code",
      "metadata": {
        "id": "vSeHrWEiDQ0o",
        "colab_type": "code",
        "colab": {}
      },
      "source": [
        ""
      ],
      "execution_count": 0,
      "outputs": []
    },
    {
      "cell_type": "code",
      "metadata": {
        "id": "aYzuSCNGDQ0v",
        "colab_type": "code",
        "colab": {}
      },
      "source": [
        ""
      ],
      "execution_count": 0,
      "outputs": []
    },
    {
      "cell_type": "code",
      "metadata": {
        "id": "mFsibBSVDQ01",
        "colab_type": "code",
        "colab": {}
      },
      "source": [
        ""
      ],
      "execution_count": 0,
      "outputs": []
    },
    {
      "cell_type": "markdown",
      "metadata": {
        "id": "Deb7ZSr3DQ09",
        "colab_type": "text"
      },
      "source": [
        "## <font color = red> Problema 12  <font>\n",
        "    \n",
        "\n",
        "Con el comienzo del curso se va a lanzar unas ofertas de material escolar. Unos almacenes quieren ofrecer 600 cuadernos, 500 carpetas y 400 bolígrafos para la oferta, empaquetándolo de dos formas distintas; en el primer bloque pondrá 2 cuadernos, 1 carpeta y 2 bolígrafos; en el segundo, pondrán 3 cuadernos, 1 carpeta y 1 bolígrafo. Los precios de cada paquete serán 6.5 y 7 €, respectivamente.\n",
        "\n",
        "¿Cuántos paquetes le conviene poner de cada tipo para obtener el máximo beneficio?\n"
      ]
    },
    {
      "cell_type": "markdown",
      "metadata": {
        "id": "U2yfacDZDQ0-",
        "colab_type": "text"
      },
      "source": [
        "![image.png](attachment:image.png)"
      ]
    },
    {
      "cell_type": "code",
      "metadata": {
        "id": "A5tdzdXzDQ0_",
        "colab_type": "code",
        "colab": {}
      },
      "source": [
        "x=6.5\n",
        "y=7\n",
        "def f(x,y):\n",
        "  return 6.5*x + 7*y"
      ],
      "execution_count": 0,
      "outputs": []
    },
    {
      "cell_type": "code",
      "metadata": {
        "id": "VdUd5PDXDQ1G",
        "colab_type": "code",
        "outputId": "6eeb4855-acda-45a7-f330-d19f1363ec88",
        "colab": {
          "base_uri": "https://localhost:8080/",
          "height": 34
        }
      },
      "source": [
        "2*x + 3*y <= 600\n",
        "x+y<=500\n",
        "2*x+y<=400\n",
        "x>=0\n",
        "y>=0\n",
        "\n",
        "# x + y =500 intersección en (0,500) y (500,0)\n",
        "# 2x + 3y = 600 intersección en (0,200) y (300,0)\n",
        "# 2x + y = 400 intersección en (0,400) y (200,0)\n",
        "\n",
        "#las coordenadas donde se intersectan son (0,200), (150,100) ,(200,0) "
      ],
      "execution_count": 0,
      "outputs": [
        {
          "output_type": "execute_result",
          "data": {
            "text/plain": [
              "True"
            ]
          },
          "metadata": {
            "tags": []
          },
          "execution_count": 31
        }
      ]
    },
    {
      "cell_type": "markdown",
      "metadata": {
        "id": "gVpxcsU1YniN",
        "colab_type": "text"
      },
      "source": [
        "![texto alternativo](https://drive.google.com/file/d/1gZc3Gr2twTH6xA1gH9E3uL9q8AG5jOoY/view?usp=sharing)"
      ]
    },
    {
      "cell_type": "code",
      "metadata": {
        "id": "Qwu3UgVPDQ1M",
        "colab_type": "code",
        "colab": {}
      },
      "source": [
        "#x: array([150., 100.])"
      ],
      "execution_count": 0,
      "outputs": []
    },
    {
      "cell_type": "code",
      "metadata": {
        "id": "nT3u7sxKDQ1S",
        "colab_type": "code",
        "outputId": "9fd8cc70-4717-4077-8539-ce6b19fe0b0e",
        "colab": {
          "base_uri": "https://localhost:8080/",
          "height": 34
        }
      },
      "source": [
        "f(0,200)"
      ],
      "execution_count": 0,
      "outputs": [
        {
          "output_type": "execute_result",
          "data": {
            "text/latex": "$$1400.0$$",
            "text/plain": [
              "1400.0"
            ]
          },
          "metadata": {
            "tags": []
          },
          "execution_count": 37
        }
      ]
    },
    {
      "cell_type": "code",
      "metadata": {
        "id": "WH2HcXUrMbpf",
        "colab_type": "code",
        "outputId": "cd803540-9ec9-441c-9db5-7cd09cee465a",
        "colab": {
          "base_uri": "https://localhost:8080/",
          "height": 34
        }
      },
      "source": [
        "f(200,0)"
      ],
      "execution_count": 0,
      "outputs": [
        {
          "output_type": "execute_result",
          "data": {
            "text/latex": "$$1300.0$$",
            "text/plain": [
              "1300.0"
            ]
          },
          "metadata": {
            "tags": []
          },
          "execution_count": 38
        }
      ]
    },
    {
      "cell_type": "code",
      "metadata": {
        "id": "pFOOz43wMb-L",
        "colab_type": "code",
        "outputId": "bdb7a64d-7c50-4bfd-e46e-6912fa5259c6",
        "colab": {
          "base_uri": "https://localhost:8080/",
          "height": 34
        }
      },
      "source": [
        "f(150,100) #Máximo"
      ],
      "execution_count": 0,
      "outputs": [
        {
          "output_type": "execute_result",
          "data": {
            "text/latex": "$$1675.0$$",
            "text/plain": [
              "1675.0"
            ]
          },
          "metadata": {
            "tags": []
          },
          "execution_count": 39
        }
      ]
    },
    {
      "cell_type": "code",
      "metadata": {
        "id": "4kZeLJ8nMuni",
        "colab_type": "code",
        "colab": {}
      },
      "source": [
        "#La solución óptima adecuada sería poner:\n",
        "# 150 Paquete 1\n",
        "# 100 Paquete 2"
      ],
      "execution_count": 0,
      "outputs": []
    },
    {
      "cell_type": "markdown",
      "metadata": {
        "id": "fsqoy6WLS9v3",
        "colab_type": "text"
      },
      "source": [
        "### #**La solución óptima adecuada sería poner:**\n",
        "### **150 Paquete 1**\n",
        "### **100** **Paquete** **2**"
      ]
    },
    {
      "cell_type": "markdown",
      "metadata": {
        "id": "xtZRhiPrDQ1d",
        "colab_type": "text"
      },
      "source": [
        "## <font color = red> Problema 13 <font>\n",
        "    \n",
        "Se dispone de 600 g de un determinado fármaco para elaborar pastillas grandes y pequeñas. Las grandes pesan 40 g y las pequeñas 30 g. Se necesitan al menos tres pastillas grandes, y al menos el doble de pequeñas que de las grandes. Cada pastilla grande proporciona un beneficio de 2 € y la pequeña de 1 €.\n",
        "\n",
        "¿Cuántas pastillas se han de elaborar de cada clase para que el beneficio sea máximo?"
      ]
    },
    {
      "cell_type": "markdown",
      "metadata": {
        "id": "r-wIpnVuDQ1e",
        "colab_type": "text"
      },
      "source": [
        "texto en negrita![image.png](attachment:image.png)"
      ]
    },
    {
      "cell_type": "markdown",
      "metadata": {
        "id": "H3e5nqe5DQ1e",
        "colab_type": "text"
      },
      "source": [
        "![image.png](attachment:image.png)"
      ]
    },
    {
      "cell_type": "code",
      "metadata": {
        "id": "SGRaVR-TNg9E",
        "colab_type": "code",
        "colab": {}
      },
      "source": [
        "def f(x,y):\n",
        "  return 2*x + y"
      ],
      "execution_count": 0,
      "outputs": []
    },
    {
      "cell_type": "code",
      "metadata": {
        "id": "lVDUaDfRNlpf",
        "colab_type": "code",
        "colab": {
          "base_uri": "https://localhost:8080/",
          "height": 34
        },
        "outputId": "87fe319a-c8b5-43bf-d1a5-a8c3efe0b2c3"
      },
      "source": [
        "40*x + 30*y <= 600\n",
        "x>=3\n",
        "y >= 2*x\n",
        "y>=0\n",
        "\n",
        "# 40x + 30y = 600 intersección en (0,20) y (15,0)\n",
        "# y = 2x intersección en (0,0) y (infinito, infinito)\n",
        "# x = 3  intersección en (3,infinito) y (3,0)\n",
        "\n",
        "#las coordenadas donde se intersectan son (3,6), (3,16) ,(6,12) "
      ],
      "execution_count": 66,
      "outputs": [
        {
          "output_type": "execute_result",
          "data": {
            "text/plain": [
              "True"
            ]
          },
          "metadata": {
            "tags": []
          },
          "execution_count": 66
        }
      ]
    },
    {
      "cell_type": "markdown",
      "metadata": {
        "id": "h7Zy-8G4ZAY_",
        "colab_type": "text"
      },
      "source": [
        "![texto alternativo](https://drive.google.com/file/d/1b_TMsVd7O6-Y7olreZ-9fini2jFRg-Ls/view?usp=sharing)"
      ]
    },
    {
      "cell_type": "code",
      "metadata": {
        "id": "gJ5h5MeSO7Sb",
        "colab_type": "code",
        "colab": {
          "base_uri": "https://localhost:8080/",
          "height": 34
        },
        "outputId": "e17638ff-72ab-4578-a69c-16beb339330f"
      },
      "source": [
        "f(3,16)"
      ],
      "execution_count": 67,
      "outputs": [
        {
          "output_type": "execute_result",
          "data": {
            "text/latex": "$$22$$",
            "text/plain": [
              "22"
            ]
          },
          "metadata": {
            "tags": []
          },
          "execution_count": 67
        }
      ]
    },
    {
      "cell_type": "code",
      "metadata": {
        "id": "Ak9Ic_w1QYVh",
        "colab_type": "code",
        "colab": {
          "base_uri": "https://localhost:8080/",
          "height": 34
        },
        "outputId": "65147c55-ca49-4f8e-e103-cb3100973073"
      },
      "source": [
        "f(3,6)"
      ],
      "execution_count": 68,
      "outputs": [
        {
          "output_type": "execute_result",
          "data": {
            "text/latex": "$$12$$",
            "text/plain": [
              "12"
            ]
          },
          "metadata": {
            "tags": []
          },
          "execution_count": 68
        }
      ]
    },
    {
      "cell_type": "code",
      "metadata": {
        "id": "PeE2h39aQYSj",
        "colab_type": "code",
        "colab": {
          "base_uri": "https://localhost:8080/",
          "height": 34
        },
        "outputId": "eb41c0a4-cbaf-4c97-be2a-ac57af7355cd"
      },
      "source": [
        "f(6,12) #Máximo"
      ],
      "execution_count": 69,
      "outputs": [
        {
          "output_type": "execute_result",
          "data": {
            "text/latex": "$$24$$",
            "text/plain": [
              "24"
            ]
          },
          "metadata": {
            "tags": []
          },
          "execution_count": 69
        }
      ]
    },
    {
      "cell_type": "code",
      "metadata": {
        "id": "cSQQ5aBfQmwL",
        "colab_type": "code",
        "colab": {}
      },
      "source": [
        "#La solución óptima se obtiene fabricando 6 pastillas grandes y 12 pequeñas"
      ],
      "execution_count": 0,
      "outputs": []
    },
    {
      "cell_type": "markdown",
      "metadata": {
        "id": "5sHYvfYuSEER",
        "colab_type": "text"
      },
      "source": [
        "### **#La solución óptima se obtiene fabricando 6 pastillas grandes y 12 pequeñas**"
      ]
    },
    {
      "cell_type": "code",
      "metadata": {
        "id": "Zqut9hO2DQ1m",
        "colab_type": "code",
        "colab": {}
      },
      "source": [
        "#x: array([ 6., 12.])"
      ],
      "execution_count": 0,
      "outputs": []
    },
    {
      "cell_type": "markdown",
      "metadata": {
        "id": "1RMxiyI5DQ11",
        "colab_type": "text"
      },
      "source": [
        "## <font color = red> Problema 14 <font>\n",
        "\n",
        "El conjunto de datos proviene del repositorio UCI Machine Learning y está relacionado con campañas de marketing directo (llamadas telefónicas) de una institución bancaria portuguesa.\n",
        "\n",
        "El objetivo de la clasificación es predecir si el cliente se suscribirá (1/0) a un depósito a plazo (variable y). El conjunto de datos se puede descargar desde aquí.\n",
        "\n",
        "https://raw.githubusercontent.com/madmashup/targeted-marketing-predictive-engine/master/banking.csv"
      ]
    },
    {
      "cell_type": "markdown",
      "metadata": {
        "id": "QYrdUfgWDQ12",
        "colab_type": "text"
      },
      "source": [
        "### Input variables\n",
        "\n",
        "- age (numeric)\n",
        "- job : type of job (categorical: “admin”, “blue-collar”, “entrepreneur”, “housemaid”, “management”, “retired”, “self-employed”, “services”, “student”, “technician”, “unemployed”, “unknown”)\n",
        "- marital : marital status (categorical: “divorced”, “married”, “single”, “unknown”)\n",
        "- education (categorical: “basic.4y”, “basic.6y”, “basic.9y”, “high.school”, “illiterate”, “professional.course”, “university.degree”, “unknown”)\n",
        "- default: has credit in default? (categorical: “no”, “yes”, “unknown”)\n",
        "- housing: has housing loan? (categorical: “no”, “yes”, “unknown”)\n",
        "- loan: has personal loan? (categorical: “no”, “yes”, “unknown”)\n",
        "- contact: contact communication type (categorical: “cellular”, “telephone”)\n",
        "- month: last contact month of year (categorical: “jan”, “feb”, “mar”, …, “nov”, “dec”)\n",
        "- day_of_week: last contact day of the week (categorical: “mon”, “tue”, “wed”, “thu”, “fri”)\n",
        "- duration: last contact duration, in seconds (numeric). Important note: this attribute highly affects the output target (e.g., if duration=0 then y=’no’). The duration is not known before a call is performed, also, after the end of the call, y is obviously known. Thus, this input should only be included for benchmark purposes and should be discarded if the intention is to have a realistic predictive model\n",
        "- campaign: number of contacts performed during this campaign and for this client (numeric, includes last contact)\n",
        "- pdays: number of days that passed by after the client was last contacted from a previous campaign (numeric; 999 means client was not previously contacted)\n",
        "- previous: number of contacts performed before this campaign and for this client (numeric)\n",
        "- poutcome: outcome of the previous marketing campaign (categorical: “failure”, “nonexistent”, “success”)\n",
        "- emp.var.rate: employment variation rate — (numeric)\n",
        "- cons.price.idx: consumer price index — (numeric)\n",
        "- cons.conf.idx: consumer confidence index — (numeric)\n",
        "- euribor3m: euribor 3 month rate — (numeric)\n",
        "- nr.employed: number of employees — (numeric)\n",
        "\n",
        "\n",
        "### Predict variable (desired target):\n",
        "\n",
        "y — has the client subscribed a term deposit? (binary: “1”, means “Yes”, “0” means “No”)"
      ]
    },
    {
      "cell_type": "code",
      "metadata": {
        "id": "qQilDD-pDQ13",
        "colab_type": "code",
        "colab": {}
      },
      "source": [
        ""
      ],
      "execution_count": 0,
      "outputs": []
    },
    {
      "cell_type": "code",
      "metadata": {
        "id": "rXOuKM4hDQ2E",
        "colab_type": "code",
        "outputId": "edfd945f-4c0e-4071-c079-73103fceadf7",
        "colab": {}
      },
      "source": [
        "import os\n",
        "import pandas as pd\n",
        "\n",
        "banking = pd.read_csv('banking.csv')\n",
        "print(banking.columns)"
      ],
      "execution_count": 0,
      "outputs": [
        {
          "output_type": "stream",
          "text": [
            "Index(['age', 'job', 'marital', 'education', 'default', 'housing', 'loan',\n",
            "       'contact', 'month', 'day_of_week', 'duration', 'campaign', 'pdays',\n",
            "       'previous', 'poutcome', 'emp_var_rate', 'cons_price_idx',\n",
            "       'cons_conf_idx', 'euribor3m', 'nr_employed', 'y'],\n",
            "      dtype='object')\n"
          ],
          "name": "stdout"
        }
      ]
    },
    {
      "cell_type": "code",
      "metadata": {
        "id": "8uSIVXDsDQ2V",
        "colab_type": "code",
        "outputId": "3c370a62-7257-4bbc-9780-a22261e98cb4",
        "colab": {}
      },
      "source": [
        "banking.head()"
      ],
      "execution_count": 0,
      "outputs": [
        {
          "output_type": "execute_result",
          "data": {
            "text/html": [
              "<div>\n",
              "<style scoped>\n",
              "    .dataframe tbody tr th:only-of-type {\n",
              "        vertical-align: middle;\n",
              "    }\n",
              "\n",
              "    .dataframe tbody tr th {\n",
              "        vertical-align: top;\n",
              "    }\n",
              "\n",
              "    .dataframe thead th {\n",
              "        text-align: right;\n",
              "    }\n",
              "</style>\n",
              "<table border=\"1\" class=\"dataframe\">\n",
              "  <thead>\n",
              "    <tr style=\"text-align: right;\">\n",
              "      <th></th>\n",
              "      <th>age</th>\n",
              "      <th>job</th>\n",
              "      <th>marital</th>\n",
              "      <th>education</th>\n",
              "      <th>default</th>\n",
              "      <th>housing</th>\n",
              "      <th>loan</th>\n",
              "      <th>contact</th>\n",
              "      <th>month</th>\n",
              "      <th>day_of_week</th>\n",
              "      <th>...</th>\n",
              "      <th>campaign</th>\n",
              "      <th>pdays</th>\n",
              "      <th>previous</th>\n",
              "      <th>poutcome</th>\n",
              "      <th>emp_var_rate</th>\n",
              "      <th>cons_price_idx</th>\n",
              "      <th>cons_conf_idx</th>\n",
              "      <th>euribor3m</th>\n",
              "      <th>nr_employed</th>\n",
              "      <th>y</th>\n",
              "    </tr>\n",
              "  </thead>\n",
              "  <tbody>\n",
              "    <tr>\n",
              "      <td>0</td>\n",
              "      <td>44</td>\n",
              "      <td>blue-collar</td>\n",
              "      <td>married</td>\n",
              "      <td>basic.4y</td>\n",
              "      <td>unknown</td>\n",
              "      <td>yes</td>\n",
              "      <td>no</td>\n",
              "      <td>cellular</td>\n",
              "      <td>aug</td>\n",
              "      <td>thu</td>\n",
              "      <td>...</td>\n",
              "      <td>1</td>\n",
              "      <td>999</td>\n",
              "      <td>0</td>\n",
              "      <td>nonexistent</td>\n",
              "      <td>1.4</td>\n",
              "      <td>93.444</td>\n",
              "      <td>-36.1</td>\n",
              "      <td>4.963</td>\n",
              "      <td>5228.1</td>\n",
              "      <td>0</td>\n",
              "    </tr>\n",
              "    <tr>\n",
              "      <td>1</td>\n",
              "      <td>53</td>\n",
              "      <td>technician</td>\n",
              "      <td>married</td>\n",
              "      <td>unknown</td>\n",
              "      <td>no</td>\n",
              "      <td>no</td>\n",
              "      <td>no</td>\n",
              "      <td>cellular</td>\n",
              "      <td>nov</td>\n",
              "      <td>fri</td>\n",
              "      <td>...</td>\n",
              "      <td>1</td>\n",
              "      <td>999</td>\n",
              "      <td>0</td>\n",
              "      <td>nonexistent</td>\n",
              "      <td>-0.1</td>\n",
              "      <td>93.200</td>\n",
              "      <td>-42.0</td>\n",
              "      <td>4.021</td>\n",
              "      <td>5195.8</td>\n",
              "      <td>0</td>\n",
              "    </tr>\n",
              "    <tr>\n",
              "      <td>2</td>\n",
              "      <td>28</td>\n",
              "      <td>management</td>\n",
              "      <td>single</td>\n",
              "      <td>university.degree</td>\n",
              "      <td>no</td>\n",
              "      <td>yes</td>\n",
              "      <td>no</td>\n",
              "      <td>cellular</td>\n",
              "      <td>jun</td>\n",
              "      <td>thu</td>\n",
              "      <td>...</td>\n",
              "      <td>3</td>\n",
              "      <td>6</td>\n",
              "      <td>2</td>\n",
              "      <td>success</td>\n",
              "      <td>-1.7</td>\n",
              "      <td>94.055</td>\n",
              "      <td>-39.8</td>\n",
              "      <td>0.729</td>\n",
              "      <td>4991.6</td>\n",
              "      <td>1</td>\n",
              "    </tr>\n",
              "    <tr>\n",
              "      <td>3</td>\n",
              "      <td>39</td>\n",
              "      <td>services</td>\n",
              "      <td>married</td>\n",
              "      <td>high.school</td>\n",
              "      <td>no</td>\n",
              "      <td>no</td>\n",
              "      <td>no</td>\n",
              "      <td>cellular</td>\n",
              "      <td>apr</td>\n",
              "      <td>fri</td>\n",
              "      <td>...</td>\n",
              "      <td>2</td>\n",
              "      <td>999</td>\n",
              "      <td>0</td>\n",
              "      <td>nonexistent</td>\n",
              "      <td>-1.8</td>\n",
              "      <td>93.075</td>\n",
              "      <td>-47.1</td>\n",
              "      <td>1.405</td>\n",
              "      <td>5099.1</td>\n",
              "      <td>0</td>\n",
              "    </tr>\n",
              "    <tr>\n",
              "      <td>4</td>\n",
              "      <td>55</td>\n",
              "      <td>retired</td>\n",
              "      <td>married</td>\n",
              "      <td>basic.4y</td>\n",
              "      <td>no</td>\n",
              "      <td>yes</td>\n",
              "      <td>no</td>\n",
              "      <td>cellular</td>\n",
              "      <td>aug</td>\n",
              "      <td>fri</td>\n",
              "      <td>...</td>\n",
              "      <td>1</td>\n",
              "      <td>3</td>\n",
              "      <td>1</td>\n",
              "      <td>success</td>\n",
              "      <td>-2.9</td>\n",
              "      <td>92.201</td>\n",
              "      <td>-31.4</td>\n",
              "      <td>0.869</td>\n",
              "      <td>5076.2</td>\n",
              "      <td>1</td>\n",
              "    </tr>\n",
              "  </tbody>\n",
              "</table>\n",
              "<p>5 rows × 21 columns</p>\n",
              "</div>"
            ],
            "text/plain": [
              "   age          job  marital          education  default housing loan  \\\n",
              "0   44  blue-collar  married           basic.4y  unknown     yes   no   \n",
              "1   53   technician  married            unknown       no      no   no   \n",
              "2   28   management   single  university.degree       no     yes   no   \n",
              "3   39     services  married        high.school       no      no   no   \n",
              "4   55      retired  married           basic.4y       no     yes   no   \n",
              "\n",
              "    contact month day_of_week  ...  campaign  pdays  previous     poutcome  \\\n",
              "0  cellular   aug         thu  ...         1    999         0  nonexistent   \n",
              "1  cellular   nov         fri  ...         1    999         0  nonexistent   \n",
              "2  cellular   jun         thu  ...         3      6         2      success   \n",
              "3  cellular   apr         fri  ...         2    999         0  nonexistent   \n",
              "4  cellular   aug         fri  ...         1      3         1      success   \n",
              "\n",
              "  emp_var_rate  cons_price_idx  cons_conf_idx  euribor3m  nr_employed  y  \n",
              "0          1.4          93.444          -36.1      4.963       5228.1  0  \n",
              "1         -0.1          93.200          -42.0      4.021       5195.8  0  \n",
              "2         -1.7          94.055          -39.8      0.729       4991.6  1  \n",
              "3         -1.8          93.075          -47.1      1.405       5099.1  0  \n",
              "4         -2.9          92.201          -31.4      0.869       5076.2  1  \n",
              "\n",
              "[5 rows x 21 columns]"
            ]
          },
          "metadata": {
            "tags": []
          },
          "execution_count": 77
        }
      ]
    },
    {
      "cell_type": "code",
      "metadata": {
        "id": "5pCBpwrdDQ2h",
        "colab_type": "code",
        "colab": {}
      },
      "source": [
        "#score = 0.9106293095076236"
      ],
      "execution_count": 0,
      "outputs": []
    },
    {
      "cell_type": "code",
      "metadata": {
        "id": "fcNz7MJRDQ2t",
        "colab_type": "code",
        "colab": {}
      },
      "source": [
        ""
      ],
      "execution_count": 0,
      "outputs": []
    },
    {
      "cell_type": "code",
      "metadata": {
        "id": "BHrrag_kDQ23",
        "colab_type": "code",
        "colab": {}
      },
      "source": [
        ""
      ],
      "execution_count": 0,
      "outputs": []
    },
    {
      "cell_type": "code",
      "metadata": {
        "id": "ca__LI-_DQ26",
        "colab_type": "code",
        "colab": {}
      },
      "source": [
        ""
      ],
      "execution_count": 0,
      "outputs": []
    }
  ]
}